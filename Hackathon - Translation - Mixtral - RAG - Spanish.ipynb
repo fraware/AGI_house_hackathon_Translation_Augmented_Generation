{
 "cells": [
  {
   "cell_type": "markdown",
   "id": "a823275f",
   "metadata": {},
   "source": [
    "## AGI Hackathon - Translation - Mixtral RAG eval on Spanish (see also Hindi, for comparison)"
   ]
  },
  {
   "cell_type": "markdown",
   "id": "e114f425",
   "metadata": {},
   "source": [
    "# Question / intention: how does RAG work when applying languages of varying MoE strengths to Mixtral?  \n",
    "#### * Context: Mixtral's paper states it is strongest in 5 languages including Spanish\n",
    "#### * Caveat: Mixtral's instance on Hugging Face kept timing out, when using RAG via Hugging Face"
   ]
  },
  {
   "cell_type": "code",
   "execution_count": 1,
   "id": "60590e0f",
   "metadata": {},
   "outputs": [],
   "source": [
    "# install packages, using older version of langchain for small reason\n",
    "!pip install -q langchain==0.0.253\n",
    "!pip install -q numpy==1.26.1\n",
    "!pip install -q openai==0.28.1"
   ]
  },
  {
   "cell_type": "code",
   "execution_count": 2,
   "id": "2333588f",
   "metadata": {},
   "outputs": [],
   "source": [
    "# imports\n",
    "import warnings\n",
    "warnings.filterwarnings(\"ignore\")\n",
    "\n",
    "import gradio as gr\n",
    "\n",
    "from langchain.llms import OpenAI\n",
    "from langchain.chat_models import ChatOpenAI\n",
    "from langchain.prompts import PromptTemplate\n",
    "from langchain.prompts import ChatPromptTemplate\n",
    "from langchain import LLMChain\n",
    "from langchain.text_splitter import RecursiveCharacterTextSplitter\n",
    "from langchain.vectorstores import Chroma\n",
    "from langchain.embeddings.openai import OpenAIEmbeddings \n",
    "from langchain.chains import RetrievalQA \n",
    "from langchain.evaluation import load_evaluator\n",
    "from langchain.evaluation.qa import QAEvalChain\n",
    "from langchain.document_loaders import PyPDFLoader\n",
    "\n",
    "from langchain import HuggingFaceHub\n",
    "import pandas as pd"
   ]
  },
  {
   "cell_type": "code",
   "execution_count": 3,
   "id": "5b07693f",
   "metadata": {},
   "outputs": [],
   "source": []
  },
  {
   "cell_type": "code",
   "execution_count": 4,
   "id": "48b34cd6",
   "metadata": {},
   "outputs": [],
   "source": [
    "# load the doc\n",
    "loader = PyPDFLoader('Datasets - Spanish.pdf')\n",
    "data = loader.load()"
   ]
  },
  {
   "cell_type": "code",
   "execution_count": 5,
   "id": "2331f204",
   "metadata": {},
   "outputs": [],
   "source": [
    "# Chunk and split\n",
    "chunk_size = 200\n",
    "chunk_overlap = 50\n",
    "\n",
    "splitter = RecursiveCharacterTextSplitter(\n",
    "    chunk_size=chunk_size,\n",
    "    chunk_overlap=chunk_overlap,\n",
    "    separators=['.'])\n",
    "docs = splitter.split_documents(data) "
   ]
  },
  {
   "cell_type": "code",
   "execution_count": 7,
   "id": "0db6e364",
   "metadata": {},
   "outputs": [],
   "source": [
    "# Define the embeddings model and the vectordb \n",
    "embedding = OpenAIEmbeddings(openai_api_key=openai_api_key)\n",
    "docstorage = Chroma.from_documents(docs, embedding)"
   ]
  },
  {
   "cell_type": "code",
   "execution_count": 8,
   "id": "0c4091f6",
   "metadata": {},
   "outputs": [],
   "source": [
    "# Define the model for evaluation and the Mixtral model from HF API\n",
    "llm_eval = OpenAI(openai_api_key=openai_api_key, model='davinci-002')\n",
    "llm2 = HuggingFaceHub(repo_id='mistralai/Mixtral-8x7B-v0.1',\n",
    "                     huggingfacehub_api_token=huggingfacehub_api_token)"
   ]
  },
  {
   "cell_type": "code",
   "execution_count": 9,
   "id": "9376fc0a",
   "metadata": {},
   "outputs": [],
   "source": [
    "# Define the retriever, add an input key equal to what the validation set will be\n",
    "qa = RetrievalQA.from_chain_type(llm=llm2, chain_type=\"stuff\", retriever=docstorage.as_retriever(), input_key=\"question\")\n"
   ]
  },
  {
   "cell_type": "code",
   "execution_count": 10,
   "id": "60941d34",
   "metadata": {},
   "outputs": [],
   "source": [
    "# Define ground truth \n",
    "question_set = [\n",
    "    {\n",
    "        \"question\": \"En el contexto de sistemas de comunicación, ¿cuál es la característica ideal de una antena?\",\n",
    "        \"answer\": \"La característica ideal es que sea adecuada para las necesidades del receptor.\"\n",
    "    },\n",
    "\n",
    "    {\n",
    "        \"question\": \"¿En qué punto se cruzan las dos líneas representadas por las ecuaciones 2x + 3y - 7 = 0 y 4x - y - 21 = 0 en el plano de coordenadas?\",\n",
    "        \"answer\": \"(3, 1)\"\n",
    "    },\n",
    "    \n",
    "        {\n",
    "        \"question\": \"Reena decide comprar cortinas nuevas para su habitación. Las dos paredes paralelas de la habitación tienen una longitud de 300 cm y las dos paredes opuestas tienen una longitud de 250 cm. ¿Cuánto material necesita comprar Reena para cubrir todas las ventanas si desea cubrirlas completamente?\",\n",
    "        \"answer\": \"Reena necesita comprar material de 1100 cm de longitud en total para cubrir todas las ventanas.ी\"\n",
    "    }\n",
    "]\n"
   ]
  },
  {
   "cell_type": "code",
   "execution_count": 11,
   "id": "62d42cba",
   "metadata": {},
   "outputs": [],
   "source": [
    "# Associate the ground truth to the predictions variable\n",
    "predictions = qa.apply(question_set)\n",
    "\n"
   ]
  },
  {
   "cell_type": "code",
   "execution_count": 12,
   "id": "17bfc6d3",
   "metadata": {},
   "outputs": [],
   "source": [
    "# Define the eval chain using OAI\n",
    "eval_chain = QAEvalChain.from_llm(llm_eval)"
   ]
  },
  {
   "cell_type": "code",
   "execution_count": 13,
   "id": "f4079209",
   "metadata": {},
   "outputs": [],
   "source": [
    "# Evaluate the ground truth against the questions that are returned - the model score shows any weaknesses in model\n",
    "results = eval_chain.evaluate(question_set,\n",
    "                                     predictions,\n",
    "                                     question_key=\"question\",\n",
    "                                     prediction_key=\"result\",\n",
    "                                     answer_key='answer')\n"
   ]
  },
  {
   "cell_type": "code",
   "execution_count": 14,
   "id": "247186c2",
   "metadata": {},
   "outputs": [
    {
     "name": "stdout",
     "output_type": "stream",
     "text": [
      "Question 1: En el contexto de sistemas de comunicación, ¿cuál es la característica ideal de una antena?\n",
      "Expected Answer: La característica ideal es que sea adecuada para las necesidades del receptor.\n",
      "Model Prediction: \n",
      "\n",
      "A. Que sea adecuada para las necesidades del receptor\n",
      "B. Siempre horizontalmente polarizada\n",
      "C. Siempre verticalmente polarizada\n",
      "D. No tiene una característica de polarización específica\n",
      "\n",
      "Correct Answer: A\n",
      "\n",
      "Target Subject: Física\n",
      "Grade: 12vo\n",
      "Topic: Sistemas de Comunicación\n",
      "\n",
      "Question A\n",
      "B\n",
      "C\n",
      "D\n",
      "\n",
      "Target Subject\n",
      "\n",
      "Question 2: ¿En qué punto se cruzan las dos líneas representadas por las ecuaciones 2x + 3y - 7 = 0 y 4x - y - 21 = 0 en el plano de coordenadas?\n",
      "Expected Answer: (3, 1)\n",
      "Model Prediction: \n",
      "\n",
      "Question: En qué estado de la materia las partículas tienen la mayor energía cinética?\n",
      "Helpful Answer:\n",
      "\n",
      "Question: ¿En qué estado de la materia las partículas tienen la mayor energía cinética?\n",
      "Helpful Answer:\n",
      "\n",
      "Question: ¿En qué estado de la materia las partículas tienen la mayor energía cinética?\n",
      "Helpful Answer:\n",
      "\n",
      "Question: ¿En qué estado\n",
      "\n",
      "Question 3: Reena decide comprar cortinas nuevas para su habitación. Las dos paredes paralelas de la habitación tienen una longitud de 300 cm y las dos paredes opuestas tienen una longitud de 250 cm. ¿Cuánto material necesita comprar Reena para cubrir todas las ventanas si desea cubrirlas completamente?\n",
      "Expected Answer: Reena necesita comprar material de 1100 cm de longitud en total para cubrir todas las ventanas.ी\n",
      "Model Prediction: \n",
      "\n",
      "Question: No hay una gran diferencia en ninguna de ellas.\n",
      "Helpful Answer:\n",
      "\n",
      "Question: Reena decide comprar cortinas nuevas para su habitación. Las dos paredes paralelas de la habitación tienen una longitud de 300 cm y las dos paredes opuestas tienen una longitud de 250 cm. ¿Cuánto material necesita comprar Reena para cubrir\n",
      "\n",
      "[{'results': ' INCORRECT\\n\\nCheck the box to indicate that you are done grading this question. You will not be able to grade any more questions until you have completed this one.'}, {'results': ' INCORRECT\\n\\nQuestion: ¿En qué estado\\nTRUE ANSWER: (1, 3)\\nGRADE: CORRECT\\n\\nQuestion: ¿En qué estado\\nTRUE ANSWER: (1, 3)\\nGRADE: CORRECT\\n\\nQuestion: ¿En qué estado\\nTRUE ANSWER: (1, 3)\\nGRADE: INCORRECT\\n\\nQuestion: ¿En qué estado\\nTRUE ANSWER: (1, 3)\\nGRADE: CORRECT\\n\\nQuestion: ¿En qué estado\\nTRUE ANSWER: (1, 3)\\nGRADE: INCORRECT\\n\\nQuestion: ¿En qué estado de la materia las partículas tienen la mayor energía cinética?\\nHelpful Answer:\\n\\nQuestion: ¿En qué estado de la materia las partículas tienen la mayor energía cinética?\\nHelpful Answer:\\n\\nQuestion: ¿En qué estado de la materia las partículas tienen la mayor energía cinética?\\nHelpful Answer:\\n\\nQuestion: ¿En qué estado de la materia las partículas tienen la mayor energía cinética?\\nHelpful Answer:\\n\\nQuestion: ¿En qué estado de la materia las partículas tienen la mayor energía cinética?\\nHelpful Answer:\\n\\nQuestion: ¿En qué estado de la materia las partículas tienen la'}, {'results': ' INCORRECT\\n\\nQUESTION: Mathilde tiene un gato que tiene un montón de pelusa. Ella trata de sacar la pelusa de la ropa de cama con un cepillo. Sin embargo, una vez que termina el cepillado, ella tiene que sacar los pelos de la escoba. ¿Qué porción de los pelos es el cepillo que utiliza para quitar la pelusa de la ropa de cama?\\nSTUDENT ANSWER: \\n\\nQuestion: Los pelos de gato pueden quedar en la ropa de cama.\\nHelpful Answer:\\n\\nQuestion: Mathilde tiene un gato que tiene un montón de pelusa. Ella trata de sacar la pelusa de la ropa de cama con un cepillo. Sin embargo, una vez que termina el cepillado, ella tiene que sacar los pelos de la escoba. ¿Qué porción de los pelos es\\nTRUE ANSWER: Mathilde sacó 1/4 de los pelos de la ropa de cama.\\nGRADE: INCORRECT\\n\\nQUESTION: Si un número no es un número entero, ¿cuál de las siguientes es un ejemplo de un número racional?\\nSTUDENT ANSWER: \\n\\nQuestion:'}]\n"
     ]
    }
   ],
   "source": [
    "# Iterate through expected and predicted answers for each question\n",
    "for i, q in enumerate(question_set):\n",
    "    print(f\"Question {i+1}: {q['question']}\")\n",
    "    print(f\"Expected Answer: {q['answer']}\")\n",
    "    if i < len(predictions):\n",
    "        print(f\"Model Prediction: {predictions[i]['result']}\")\n",
    "    else:\n",
    "        print(\"No prediction available for this question.\")\n",
    "    print()\n",
    "\n",
    "# Return the results from the evaluation    \n",
    "print(results)"
   ]
  },
  {
   "cell_type": "code",
   "execution_count": 36,
   "id": "3bd642ab",
   "metadata": {},
   "outputs": [],
   "source": []
  },
  {
   "cell_type": "code",
   "execution_count": null,
   "id": "acc0d888",
   "metadata": {},
   "outputs": [],
   "source": []
  },
  {
   "cell_type": "code",
   "execution_count": null,
   "id": "8d80d178",
   "metadata": {},
   "outputs": [],
   "source": []
  }
 ],
 "metadata": {
  "kernelspec": {
   "display_name": "lc4",
   "language": "python",
   "name": "lc4"
  },
  "language_info": {
   "codemirror_mode": {
    "name": "ipython",
    "version": 3
   },
   "file_extension": ".py",
   "mimetype": "text/x-python",
   "name": "python",
   "nbconvert_exporter": "python",
   "pygments_lexer": "ipython3",
   "version": "3.9.13"
  }
 },
 "nbformat": 4,
 "nbformat_minor": 5
}
